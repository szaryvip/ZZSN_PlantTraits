{
 "cells": [
  {
   "cell_type": "code",
   "execution_count": 7,
   "metadata": {},
   "outputs": [],
   "source": [
    "import torchvision.transforms as transforms\n",
    "from torchvision.datasets import ImageFolder\n",
    "from torch.utils.data import DataLoader\n",
    "import pandas as pd\n",
    "import torch\n",
    "from torch.utils.data import Dataset"
   ]
  },
  {
   "cell_type": "code",
   "execution_count": 8,
   "metadata": {},
   "outputs": [
    {
     "name": "stdout",
     "output_type": "stream",
     "text": [
      "Using device: cuda\n"
     ]
    }
   ],
   "source": [
    "device = torch.device('cuda' if torch.cuda.is_available() else 'cpu')\n",
    "print('Using device:', device)"
   ]
  },
  {
   "cell_type": "code",
   "execution_count": 9,
   "metadata": {},
   "outputs": [],
   "source": [
    "class CustomCSVDataset(Dataset):\n",
    "    def __init__(self, csv_file, transform=None):\n",
    "        \"\"\"\n",
    "        Args:\n",
    "            csv_file (string): Path to the CSV file containing data.\n",
    "            transform (callable, optional): Optional transform to be applied on a sample.\n",
    "        \"\"\"\n",
    "        self.data_frame = pd.read_csv(csv_file)\n",
    "        self.transform = transform\n",
    "        self.targets = [\"X4\", \"X11\", \"X18\", \"X26\", \"X50\", \"X3112\"]\n",
    "\n",
    "    def __len__(self):\n",
    "        return len(self.data_frame)\n",
    "\n",
    "    def __getitem__(self, idx):\n",
    "        if torch.is_tensor(idx):\n",
    "            idx = idx.tolist()\n",
    "\n",
    "        sample = self.data_frame.iloc[idx]\n",
    "\n",
    "        id = sample['id']\n",
    "        targets = sample[[target+\"_mean\" for target in self.targets]]          \n",
    "        features = sample.drop([\"id\"] + [target+\"_mean\" for target in self.targets] + [target+\"_sd\" for target in self.targets]) \n",
    "        \n",
    "        features = torch.tensor(features, dtype=torch.float32)\n",
    "        targets = torch.tensor(targets, dtype=torch.float32)\n",
    "\n",
    "        if self.transform:\n",
    "            features = self.transform(features)\n",
    "\n",
    "        return id, features, targets"
   ]
  },
  {
   "cell_type": "code",
   "execution_count": 59,
   "metadata": {},
   "outputs": [],
   "source": [
    "class PGLSDataset(Dataset):\n",
    "    def __init__(self, csv_file, image_folder, transform_csv=None):\n",
    "        \"\"\"\n",
    "        Args:\n",
    "            csv_file (string): Path to the CSV file containing data.\n",
    "            transform (callable, optional): Optional transform to be applied on a sample.\n",
    "        \"\"\"\n",
    "        self.data_frame = pd.read_csv(csv_file, sep=\",\")\n",
    "        self.image_folder = image_folder\n",
    "        self.transform_csv = transform_csv\n",
    "        self.targets = [\"X4\", \"X11\", \"X18\", \"X26\", \"X50\", \"X3112\"]\n",
    "\n",
    "    def __len__(self):\n",
    "        return len(self.data_frame)\n",
    "\n",
    "    def __getitem__(self, idx):\n",
    "        if torch.is_tensor(idx):\n",
    "            idx = idx.tolist()\n",
    "\n",
    "        sample = self.data_frame.iloc[idx]\n",
    "        id = int(sample['id'])\n",
    "        image = self.image_folder.loader(self.image_folder.root + \"/0/\" + str(id) + \".jpeg\")\n",
    "\n",
    "        if self.image_folder.transform is not None:\n",
    "            image = self.image_folder.transform(image)\n",
    "\n",
    "        targets = sample[[f\"{target}_mean\" for target in self.targets]].values        \n",
    "        features = sample.drop([\"id\"] + [f\"{target}_mean\" for target in self.targets] + [f\"{target}_sd\" for target in self.targets])\n",
    "        \n",
    "        features = torch.tensor(features.values, dtype=torch.float32)\n",
    "        targets = torch.tensor(targets, dtype=torch.float32)\n",
    "\n",
    "        if self.transform_csv:\n",
    "            features = self.transform_csv(features)\n",
    "            \n",
    "        return image, features, targets"
   ]
  },
  {
   "cell_type": "code",
   "execution_count": 56,
   "metadata": {},
   "outputs": [],
   "source": [
    "transform = transforms.Compose([\n",
    "    transforms.ToTensor()            # Convert PIL image to tensor (H x W x C) in the range [0.0, 1.0]\n",
    "])\n",
    "\n",
    "batch_size = 32"
   ]
  },
  {
   "cell_type": "code",
   "execution_count": 60,
   "metadata": {},
   "outputs": [],
   "source": [
    "train_images_path = 'data/train_images'\n",
    "train_csv_path = 'data/train.csv'\n",
    "\n",
    "train_csv_dataset = CustomCSVDataset(csv_file=train_csv_path, transform=None)\n",
    "train_images_dataset = ImageFolder(root=train_images_path, transform=transform)\n",
    "\n",
    "train_image_csv_dataset = PGLSDataset(csv_file=train_csv_path, image_folder=train_images_dataset, transform_csv=None)\n",
    "\n",
    "data_loader = DataLoader(train_image_csv_dataset, batch_size=batch_size, shuffle=True)"
   ]
  },
  {
   "cell_type": "code",
   "execution_count": 61,
   "metadata": {},
   "outputs": [
    {
     "name": "stdout",
     "output_type": "stream",
     "text": [
      "torch.Size([32, 3, 512, 512]) torch.Size([32, 163]) torch.Size([32, 6])\n"
     ]
    }
   ],
   "source": [
    "for data in data_loader:\n",
    "    image, features, targets = data\n",
    "    print(image.shape, features.shape, targets.shape)\n",
    "    break"
   ]
  },
  {
   "cell_type": "code",
   "execution_count": null,
   "metadata": {},
   "outputs": [],
   "source": []
  }
 ],
 "metadata": {
  "kernelspec": {
   "display_name": "Python 3",
   "language": "python",
   "name": "python3"
  },
  "language_info": {
   "codemirror_mode": {
    "name": "ipython",
    "version": 3
   },
   "file_extension": ".py",
   "mimetype": "text/x-python",
   "name": "python",
   "nbconvert_exporter": "python",
   "pygments_lexer": "ipython3",
   "version": "3.10.12"
  }
 },
 "nbformat": 4,
 "nbformat_minor": 2
}
